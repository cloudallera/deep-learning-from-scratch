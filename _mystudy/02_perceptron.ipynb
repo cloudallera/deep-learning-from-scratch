{
 "cells": [
  {
   "cell_type": "markdown",
   "metadata": {},
   "source": [
    "# 2. 퍼셉트론\n",
    "## 2.1 퍼셉트론이란\n",
    "\n",
    "- 퍼셉트론은 다수의 신호를 입력으로 받아, 하나의 신호를 출력함 (1은 '신호가 흐른다', 0은 '신호가 흐르지 않는다')\n",
    "- 퍼셉트론 동작원리 ($X_1, X_2$는 입력신호, $W_1, W_2$는 가중치, $y$는 출력, $\\theta$는 임계값)\n",
    "    > $y = \\begin{cases} 0 & (W_1X_1 + W_2X_2 \\le \\theta) \\\\ 1 &  (W_1X_1 + W_2X_2 > \\theta) && \\text{[식2-1]} \\end{cases}$"
   ]
  },
  {
   "cell_type": "markdown",
   "metadata": {},
   "source": [
    "## 2.2 단순한 논리 회로\n",
    "\n",
    "### 2.2.1 AND 게이트\n",
    "\n",
    "- AND 게이트 진리표   (테이블 좌측 정렬을 위해 \"~/.jupyter/custom/custom.css\" 파일에 \"table {float: left;}\" 추가 함)\n",
    "\n",
    "> | X<sub>1</sub> | X<sub>2</sub> | y |\n",
    "|:-:|:-:|:-:|\n",
    "| 0 | 0 | 0 |\n",
    "| 1 | 0 | 0 |\n",
    "| 0 | 1 | 0 |\n",
    "| 1 | 1 | 1 |"
   ]
  },
  {
   "cell_type": "markdown",
   "metadata": {},
   "source": [
    "- AND 게이트 진리표 대로 작동하는 $(W_1, W_2, \\theta)$ 값은 $(0.5, 0.5, 0.7), (1.0, 1.0, 1.0)$ 등 무한히 많은 조합이 있음\n",
    "- 예로, $(W_1, W_2, \\theta)$가 $(0.5, 0.5, 0.7)$인 경우, $(X_1, X_2)$가 $(1, 1)$ 일 때만 $W_1X_1 + W_2X_2 = 1$이 되어 $0.7$ 보다 크므로 $y = 1$ 이고, <br>\n",
    "   $(X_1, X_2)$가 $(0, 0)$이면 $0.0$, $(1, 0)$이면 $0.5$, $(0, 1)$이면 $0.5$가 되므로 각각 $0.7$ 보다 작아서 $y = 0$ 이 되어, 모두 AND 게이트 논리회로를 만족 함"
   ]
  },
  {
   "cell_type": "markdown",
   "metadata": {},
   "source": [
    "### 2.2.2 NAND 게이트와 OR 게이트\n",
    "\n",
    "- NAND는 Not AND를 의미. NAND의 $(W_1, W_2, \\theta)$ 값도 $(-0.5, -0.5, -0.7)$ 등 무한히 많은 조합이 있음\n",
    "- AND 게이트를 구현하는 매개변수의 부호를 모두 반전하기만 하면 NAND 게이트라 됨\n",
    "- 퍼셉트론의 구조는 AND, NAND, OR 게이트 모두에서 똑같음. 세 가지 게이트에서 다른 것은 매개변수(가중치와 임계값)의 값 뿐 임\n",
    "- **기계학습** 문제는 매개변수의 값을 정하는 작업을 컴퓨터가 자동으로 하도록 함\n",
    "- **학습**이란 적절한 매개변수 값을 정하는 작업이며, 사람은 퍼셉트론의 구조(모델)을 고민하고 컴퓨터에 학습할 데이터를 주는 일을 함"
   ]
  },
  {
   "cell_type": "markdown",
   "metadata": {},
   "source": [
    "## 2.3 퍼셉트론 구현하기\n",
    "\n",
    "### 2.3.1 간단한 구현"
   ]
  },
  {
   "cell_type": "code",
   "execution_count": 4,
   "metadata": {},
   "outputs": [],
   "source": [
    "def AND(x1, x2):\n",
    "    w1, w2, theta = 0.5, 0.5, 0.7\n",
    "    tmp = x1 * w1 + x2 * w2\n",
    "    if tmp <= theta:\n",
    "        return 0\n",
    "    elif tmp > theta:\n",
    "        return 1"
   ]
  },
  {
   "cell_type": "code",
   "execution_count": 5,
   "metadata": {},
   "outputs": [
    {
     "name": "stdout",
     "output_type": "stream",
     "text": [
      "0 0 0 1\n"
     ]
    }
   ],
   "source": [
    "print(AND(0, 0), AND(1, 0), AND(0, 1), AND(1, 1))"
   ]
  },
  {
   "cell_type": "markdown",
   "metadata": {},
   "source": [
    "### 2.3.2 가중치와 편향 도입\n",
    "\n",
    "- 편항을 도입한 퍼셉트론 공식 ($\\theta$를 $-b$로 치환, $-b$는 편향)\n",
    "\n",
    " > $y = \\begin{cases} 0 & (-b + W_1X_1 + W_2X_2 \\le 0) \\\\ 1 &  (-b + W_1X_1 + W_2X_2 > 0) && \\text{[식2-2]} \\end{cases}$\n",
    " \n",
    "- 퍼셉트론은 입력신호에 가중치를 곱한 값과 편향을 합하여, 그 값이 0을 넘으면 1을 출력하고 그렇지 않으면 0을 출력 함\n",
    "- 편향을 따로 구분하지 않고, $W_1, W_2, b$ 셋 모두를 가중치라고 할 때도 있음"
   ]
  },
  {
   "cell_type": "code",
   "execution_count": 9,
   "metadata": {},
   "outputs": [
    {
     "data": {
      "text/plain": [
       "-0.19999999999999996"
      ]
     },
     "execution_count": 9,
     "metadata": {},
     "output_type": "execute_result"
    }
   ],
   "source": [
    "# AND 게이트의 numpy 계산 예\n",
    "import numpy as np\n",
    "\n",
    "X = np.array([0, 1])\n",
    "W = np.array([0.5, 0.5])\n",
    "b = -0.7\n",
    "\n",
    "np.sum(W * X) + b"
   ]
  },
  {
   "cell_type": "markdown",
   "metadata": {},
   "source": [
    "- 결과가 0보다 작은 값이기 때문에 y = 0 이 됨 (AND 게이트 논리표를 만족 함)"
   ]
  },
  {
   "cell_type": "markdown",
   "metadata": {},
   "source": [
    "### 2.3.3 가중치와 편향 구현하기"
   ]
  },
  {
   "cell_type": "code",
   "execution_count": 10,
   "metadata": {},
   "outputs": [],
   "source": [
    "# 수정된 AND 게이트\n",
    "def AND(x1, x2):\n",
    "    X = np.array([x1, x2])\n",
    "    W = np.array([0.5, 0.5])\n",
    "    b = -0.7\n",
    "    tmp = np.sum(W * X) + b\n",
    "    if tmp <= 0:\n",
    "        return 0\n",
    "    else:\n",
    "        return 1"
   ]
  },
  {
   "cell_type": "code",
   "execution_count": 11,
   "metadata": {},
   "outputs": [
    {
     "name": "stdout",
     "output_type": "stream",
     "text": [
      "0 0 0 1\n"
     ]
    }
   ],
   "source": [
    "print(AND(0, 0), AND(1, 0), AND(0, 1), AND(1, 1))"
   ]
  },
  {
   "cell_type": "markdown",
   "metadata": {},
   "source": [
    "- $W_1, W_2$는 각 입력신호($X_1, X_2)$가 결과에 주는 영향력(중요도)를 조절하는 매개변수 이고, <br/>\n",
    "   $b$(편향)은 뉴런이 얼마나 쉽게 활성화(결과를 1로 출력) 하느냐를 조정하는 매개변수 임"
   ]
  },
  {
   "cell_type": "code",
   "execution_count": 13,
   "metadata": {},
   "outputs": [],
   "source": [
    "# NAND 게이트 (AND 게이트와 가중치 만 다르고, 코드는 동일함)\n",
    "def NAND(x1, x2):\n",
    "    X = np.array([x1, x2])\n",
    "    W = np.array([-0.5, -0.5])\n",
    "    b = 0.7\n",
    "    tmp = np.sum(W * X) + b\n",
    "    if tmp <= 0:\n",
    "        return 0\n",
    "    else:\n",
    "        return 1\n",
    "\n",
    "# OR 게이트 (AND 게이트와 가중치 만 다르고, 코드는 동일함)\n",
    "def OR(x1, x2):\n",
    "    X = np.array([x1, x2])\n",
    "    W = np.array([0.5, 0.5])\n",
    "    b = -0.2\n",
    "    tmp = np.sum(W * X) + b\n",
    "    if tmp <= 0:\n",
    "        return 0\n",
    "    else:\n",
    "        return 1"
   ]
  },
  {
   "cell_type": "markdown",
   "metadata": {},
   "source": [
    "## 2.4 퍼셉트론의 한계\n",
    "\n",
    "- XOR 게이트는 배타적 논리합 이라는 논리회로 임($X_1\\text{과 } X_2$ 중 한쪽이 1일 때만 1을 출력)\n",
    "- 퍼셉트론으로는 XOR 게이트를 구현할 수 없음"
   ]
  },
  {
   "cell_type": "code",
   "execution_count": null,
   "metadata": {},
   "outputs": [],
   "source": []
  }
 ],
 "metadata": {
  "kernelspec": {
   "display_name": "Python 3",
   "language": "python",
   "name": "python3"
  },
  "language_info": {
   "codemirror_mode": {
    "name": "ipython",
    "version": 3
   },
   "file_extension": ".py",
   "mimetype": "text/x-python",
   "name": "python",
   "nbconvert_exporter": "python",
   "pygments_lexer": "ipython3",
   "version": "3.7.0"
  }
 },
 "nbformat": 4,
 "nbformat_minor": 2
}
