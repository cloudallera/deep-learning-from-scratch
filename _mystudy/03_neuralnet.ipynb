{
 "cells": [
  {
   "cell_type": "markdown",
   "metadata": {},
   "source": [
    "# 3. 신경망\n",
    "\n",
    "- 가중치 매개변수의 적절한 값을 데이터로부터 자동으로 학습하는 능력이 신경망의 중요한 성질\n",
    "\n",
    "## 3.1 퍼셉트론에서 신경망으로\n",
    "\n",
    "- 퍼셉트론\n",
    "\n",
    "> $y = \\begin{cases} 0 & (b + w_1x_1 + w_2x_2 \\le 0) \\\\ 1 &  (b + w_1x_1 + w_2x_2 > 0) \\end{cases}$ &nbsp;&nbsp;&nbsp;&nbsp; \\[식 3-1]\n",
    "\n",
    "- $b$는 **편향**을 나타내는 매개변수로, 뉴런이 얼마나 쉽게 활성화 되느냐을 제어\n",
    "- $W_1$과 $W_2$는 각 신호의 **가중치**를 나타내는 매개변수로, 각 신호의 영향력을 제어\n",
    "\n",
    "---\n",
    "- 퍼셉트론 재해석\n",
    "\n",
    "> $y = h(b + w_1x_1 + w_2x_2)$ &nbsp;&nbsp;&nbsp;&nbsp; \\[식 3-2] <br>\n",
    "> $h(x) = \\begin{cases} 0 & (x \\le 0) \\\\ 1 &  (x > 0) \\end{cases}$ &nbsp;&nbsp;&nbsp;&nbsp; \\[식 3-3]\n",
    "\n",
    "- [식3-2]는 입력 신호의 총합이 $h(x)$라는 함수를 거쳐 변환되어, 그 변환된 값이 y의 출력이 됨을 보여줌\n",
    "- 입력 신호의 총합을 출력 신호로 변환하는 함수를 일반적으로 **활성화 함수(Activation Function)** 이라 함\n",
    "- 활성화 함수는 입력 신호의 총합이 활성화를 일으키는지를 정하는 역할\n",
    "- \\[식3-2]는 가중치가 곱해진 입력 신호의 총합을 계산하고, 그 합을 활성화 함수에 입력해 결과를 내는 2단계로 나눌 수 있음\n",
    "\n",
    "> $\\begin{cases} a = b + w_1x_1 + w_2x_2 && \\text{[식 3.4]} \\\\ y = h(a) && \\text{[식 3.5]} \\end{cases}$\n",
    "\n",
    "- $a$는 입력 신호의 총합, $h(\\ )$는 활성화 함수, y는 출력\n",
    "- 단순 퍼셉트론은 단층 네트워크에서 계단 함수(임계값을 경계로 출력이 바뀌는 함수)를 활성화 함수로 사용하고, <br>\n",
    "   **다층 퍼셉트론은 신경망**(여러 층으로 구성되고 시그모이드 함수 등의 매끈한 활성화 함수를 사용하는 네트워크)을 가리킴"
   ]
  },
  {
   "cell_type": "markdown",
   "metadata": {},
   "source": [
    "## 3.2 활성화 함수\n",
    "\n",
    "- 신경망에서 자주 이용하는 활성화 함수인 **시그모이드 함수(sigmoid function)**\n",
    "\n",
    "> $h(x) = \\frac{1}{1 + e^{- x}}$ &nbsp;&nbsp;&nbsp;&nbsp; \\[식3.6]"
   ]
  },
  {
   "cell_type": "code",
   "execution_count": null,
   "metadata": {},
   "outputs": [],
   "source": []
  }
 ],
 "metadata": {
  "kernelspec": {
   "display_name": "Python 3",
   "language": "python",
   "name": "python3"
  },
  "language_info": {
   "codemirror_mode": {
    "name": "ipython",
    "version": 3
   },
   "file_extension": ".py",
   "mimetype": "text/x-python",
   "name": "python",
   "nbconvert_exporter": "python",
   "pygments_lexer": "ipython3",
   "version": "3.7.0"
  }
 },
 "nbformat": 4,
 "nbformat_minor": 2
}
